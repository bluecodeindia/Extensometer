{
 "cells": [
  {
   "cell_type": "code",
   "execution_count": 1,
   "id": "b12c0413",
   "metadata": {},
   "outputs": [],
   "source": [
    "import warnings\n",
    "# warnings.filterwarnings('once')\n",
    "warnings.filterwarnings('ignore')\n",
    "\n",
    "import os\n",
    "os.environ['TF_CPP_MIN_LOG_LEVEL'] = '3' "
   ]
  },
  {
   "cell_type": "code",
   "execution_count": 2,
   "id": "3c4b7acb",
   "metadata": {},
   "outputs": [],
   "source": [
    "import tensorflow as tf\n",
    "\n",
    "import glob\n",
    "import keras\n",
    "from datetime import datetime\n",
    "import time\n",
    "# from sklearn.preprocessing import LabelEncoder\n",
    "import sklearn\n",
    "from sklearn.preprocessing import MinMaxScaler\n",
    "from sklearn.metrics import mean_squared_error\n",
    "from sklearn.metrics import mean_absolute_error\n",
    "# from sklearn.metrics import r2_score\n",
    "# Commented out IPython magic to ensure Python compatibility.\n",
    "import pandas as pd\n",
    "import numpy as np\n",
    "import matplotlib.pyplot as plt\n",
    "from matplotlib import pyplot\n",
    "from scipy import stats\n",
    "# from statsmodels.tsa.stattools import adfuller\n",
    "# from statsmodels.tsa.stattools import pacf\n",
    "%matplotlib inline\n",
    "from matplotlib.pylab import rcParams\n",
    "# import seaborn as sns\n",
    "rcParams['figure.figsize']=15,5\n",
    "\n",
    "from sklearn.metrics import confusion_matrix, ConfusionMatrixDisplay\n",
    "import math"
   ]
  },
  {
   "cell_type": "code",
   "execution_count": 3,
   "id": "c24bf874",
   "metadata": {},
   "outputs": [],
   "source": [
    "# seed=1226 = 0.98\n",
    "seed=1226"
   ]
  },
  {
   "cell_type": "code",
   "execution_count": 4,
   "id": "92c7f025",
   "metadata": {},
   "outputs": [],
   "source": [
    "from time import time\n",
    "\n",
    "import numpy as np\n",
    "import pandas as pd\n",
    "\n",
    "\n",
    "# For plotting\n",
    "from matplotlib import offsetbox\n",
    "import matplotlib.pyplot as plt\n",
    "import matplotlib.patheffects as PathEffects\n",
    "import seaborn as sns\n",
    "import plotly.graph_objects as go\n",
    "\n",
    "%matplotlib inline\n",
    "sns.set(style='white', context='notebook', rc={'figure.figsize':(14,7)})\n",
    "\n",
    "#For standardising the dat\n",
    "from sklearn.preprocessing import StandardScaler\n",
    "\n",
    "#PCA\n",
    "from sklearn.manifold import TSNE\n",
    "\n",
    "#Ignore warnings\n",
    "import warnings\n",
    "warnings.filterwarnings('ignore')"
   ]
  },
  {
   "cell_type": "code",
   "execution_count": 5,
   "id": "4c8bf3c0",
   "metadata": {},
   "outputs": [],
   "source": [
    "\n",
    "from keras.models import Sequential, load_model, save_model\n",
    "from keras.layers import Dense,Input,Reshape, Flatten\n",
    "from keras.layers import LSTM\n",
    "from keras.layers import Dropout\n",
    "from keras.optimizers import Adam\n",
    "from keras.layers import BatchNormalization, Activation, Embedding, multiply\n",
    "from keras.layers import LeakyReLU\n",
    "from tensorflow.keras.layers import Dense,Conv2D,MaxPooling2D,UpSampling2D\n",
    "from tensorflow.keras import Input, Model\n",
    "from tensorflow.keras import backend as K\n",
    "import glob\n",
    "import keras\n",
    "from datetime import datetime\n",
    "from keras.callbacks import EarlyStopping\n",
    "import time\n",
    "# from sklearn.preprocessing import LabelEncoder\n",
    "import sklearn\n",
    "from sklearn.preprocessing import MinMaxScaler\n",
    "from sklearn.metrics import mean_squared_error\n",
    "from sklearn.metrics import mean_absolute_error\n",
    "from keras.callbacks import EarlyStopping\n",
    "# from sklearn.metrics import r2_score\n",
    "\n",
    "# Commented out IPython magic to ensure Python compatibility.\n",
    "import pandas as pd\n",
    "import numpy as np\n",
    "import matplotlib.pyplot as plt\n",
    "from matplotlib import pyplot\n",
    "from scipy import stats\n",
    "from keras.utils import to_categorical\n",
    "# from statsmodels.tsa.stattools import adfuller\n",
    "# from statsmodels.tsa.stattools import pacf\n",
    "%matplotlib inline\n",
    "from matplotlib.pylab import rcParams\n",
    "# import seaborn as sns\n",
    "rcParams['figure.figsize']=15,5\n",
    "\n",
    "\n"
   ]
  },
  {
   "cell_type": "code",
   "execution_count": 6,
   "id": "33465972",
   "metadata": {},
   "outputs": [],
   "source": [
    "Stations = ['Data20Nov','Data23Nov2','Data23Nov1','Data24Nov','Data24Nov2','Data25Nov','Data29Nov','Data1Dec','Data2Dec','Data3Dec']"
   ]
  },
  {
   "cell_type": "code",
   "execution_count": 7,
   "id": "3a2203d2",
   "metadata": {},
   "outputs": [],
   "source": [
    "#Rearrange the Array\n",
    "def makeArray(Array):\n",
    "    New=np.array(Array[0])\n",
    "\n",
    "    for i in range(1,len(Array)):\n",
    "        New = np.append(New,Array[i],axis=0)\n",
    "        \n",
    "    return New"
   ]
  },
  {
   "cell_type": "code",
   "execution_count": 8,
   "id": "c4e19827",
   "metadata": {},
   "outputs": [],
   "source": [
    "def readData(Stations):\n",
    "    \n",
    "    Data, C = [], []\n",
    "    \n",
    "#     print(Stations)\n",
    "    file = Stations+'.csv'\n",
    "    newfile = file\n",
    "    df = pd.read_csv('dataset/'+newfile, header=0, index_col=None)\n",
    "    print(newfile)\n",
    "    df = df.reset_index(drop=True)\n",
    "    data=df[['Present_AX','Present_Ay','Present_AZ']].values\n",
    "    data=data.astype('float32')\n",
    "#     data=data[:,0]**2+data[:,1]**2+data[:,2]**2\n",
    "#     data=np.sqrt(data)\n",
    "#     data=data.reshape((-1,1))\n",
    "    count=df['Change'].values\n",
    "    count=count.astype('float32')\n",
    "    count=count.reshape((-1,1))\n",
    "\n",
    "#     #Normalize the data\n",
    "#     scaler = MinMaxScaler(feature_range=(0, 1))\n",
    "#     data = scaler.fit_transform(data)\n",
    "    D=data[1:]-data[:-1]\n",
    "    D[np.where((D[:,0]<0.01) & (D[:,0]>-0.01)),0]=0\n",
    "    D[np.where((D[:,1]<0.01) & (D[:,1]>-0.01)),1]=0\n",
    "    D[np.where((D[:,2]<0.01) & (D[:,2]>-0.01)),2]=0\n",
    "    print(D.shape)\n",
    "    Data.append(D)\n",
    "    C.append(count[1:])\n",
    "           \n",
    "    \n",
    "        \n",
    "    return makeArray(Data), makeArray(C)\n",
    "\n"
   ]
  },
  {
   "cell_type": "code",
   "execution_count": 9,
   "id": "9409a196",
   "metadata": {},
   "outputs": [
    {
     "name": "stdout",
     "output_type": "stream",
     "text": [
      "Data20Nov.csv\n",
      "(28698, 3)\n",
      "Data23Nov2.csv\n",
      "(44971, 3)\n",
      "Data23Nov1.csv\n",
      "(13356, 3)\n",
      "Data24Nov.csv\n",
      "(9226, 3)\n",
      "Data24Nov2.csv\n",
      "(18082, 3)\n",
      "Data25Nov.csv\n",
      "(12493, 3)\n",
      "Data29Nov.csv\n",
      "(16509, 3)\n",
      "Data1Dec.csv\n",
      "(3160, 3)\n",
      "Data2Dec.csv\n",
      "(3566, 3)\n",
      "Data3Dec.csv\n",
      "(1771, 3)\n"
     ]
    }
   ],
   "source": [
    "Data=[[] for x in range(len(Stations))]\n",
    "Count=[[] for x in range(len(Stations))]\n",
    "for i in range(len(Stations)):\n",
    "    Data[i], Count[i] = readData(Stations[i])"
   ]
  },
  {
   "cell_type": "code",
   "execution_count": 10,
   "id": "59a27416",
   "metadata": {},
   "outputs": [
    {
     "name": "stdout",
     "output_type": "stream",
     "text": [
      "(28698, 3)\n",
      "(44971, 3)\n",
      "(13356, 3)\n",
      "(9226, 3)\n",
      "(18082, 3)\n",
      "(12493, 3)\n",
      "(16509, 3)\n",
      "(3160, 3)\n",
      "(3566, 3)\n",
      "(1771, 3)\n"
     ]
    }
   ],
   "source": [
    "for i in range(10):\n",
    "    print(Data[i].shape)"
   ]
  },
  {
   "cell_type": "code",
   "execution_count": 11,
   "id": "0b3eae8b",
   "metadata": {},
   "outputs": [
    {
     "data": {
      "image/png": "[encoded data removed]",
      "text/plain": [
       "<Figure size 1500x500 with 1 Axes>"
      ]
     },
     "metadata": {},
     "output_type": "display_data"
    }
   ],
   "source": [
    "for i in range(10):\n",
    "    plt.plot(Data[i])\n"
   ]
  },
  {
   "cell_type": "code",
   "execution_count": 12,
   "id": "7a7d4770",
   "metadata": {},
   "outputs": [
    {
     "data": {
      "image/png": "[encoded data removed]",
      "text/plain": [
       "<Figure size 1500x500 with 1 Axes>"
      ]
     },
     "metadata": {},
     "output_type": "display_data"
    }
   ],
   "source": [
    "for i in range(10):\n",
    "    plt.plot(np.cumsum(Count[i]))\n"
   ]
  },
  {
   "cell_type": "code",
   "execution_count": 13,
   "id": "afeacf59",
   "metadata": {},
   "outputs": [],
   "source": [
    "def makePacket(data,label,lag):\n",
    "    D,L=[],[]\n",
    "    length=len(data)\n",
    "    for i in range(length-lag+1):\n",
    "        D.append(data[i:lag+i,:])\n",
    "#         S=label[lag+i-1]-label[i]\n",
    "        L.append(label[i:lag+i,:])\n",
    "        \n",
    "    return np.array(D),np.array(L)\n",
    "        \n",
    "   "
   ]
  },
  {
   "cell_type": "code",
   "execution_count": 14,
   "id": "9f69c577",
   "metadata": {},
   "outputs": [],
   "source": [
    "DD=np.zeros(10)\n",
    "LL=np.zeros(10)\n",
    "for i in range(10):\n",
    "    DD[i]=i\n",
    "    LL[i]=i\n",
    "DD=DD.reshape((-1,1))   \n",
    "LL=LL.reshape((-1,1))  "
   ]
  },
  {
   "cell_type": "code",
   "execution_count": 15,
   "id": "f5853988",
   "metadata": {},
   "outputs": [],
   "source": [
    "D,L=makePacket(Data[0],Count[0],3)"
   ]
  },
  {
   "cell_type": "code",
   "execution_count": 16,
   "id": "46fea976",
   "metadata": {},
   "outputs": [
    {
     "data": {
      "text/plain": [
       "(28696, 3, 3)"
      ]
     },
     "execution_count": 16,
     "metadata": {},
     "output_type": "execute_result"
    }
   ],
   "source": [
    "D.shape"
   ]
  },
  {
   "cell_type": "code",
   "execution_count": 17,
   "id": "c760fae9",
   "metadata": {},
   "outputs": [
    {
     "data": {
      "text/plain": [
       "(28696, 3, 1)"
      ]
     },
     "execution_count": 17,
     "metadata": {},
     "output_type": "execute_result"
    }
   ],
   "source": [
    "L.shape"
   ]
  },
  {
   "cell_type": "code",
   "execution_count": 18,
   "id": "a6792119",
   "metadata": {},
   "outputs": [],
   "source": [
    "def positional_encoding(length, depth):\n",
    "    dim=depth\n",
    "    depth = depth/2\n",
    "\n",
    "    positions = np.arange(length)[:, np.newaxis]     # (seq, 1)\n",
    "    depths = np.arange(depth)[np.newaxis, :]/depth   # (1, depth)\n",
    "\n",
    "    angle_rates = 1 / (10000**depths)         # (1, depth)\n",
    "    angle_rads = positions * angle_rates      # (pos, depth)\n",
    "\n",
    "    pos_encoding = np.concatenate(\n",
    "      [np.sin(angle_rads), np.cos(angle_rads)],\n",
    "      axis=-1) \n",
    "    \n",
    "\n",
    "    return pos_encoding"
   ]
  },
  {
   "cell_type": "code",
   "execution_count": 19,
   "id": "b6a2a8e4",
   "metadata": {},
   "outputs": [],
   "source": [
    "# #@title\n",
    "# pos_encoding = positional_encoding(length=2048, depth=512)\n",
    "\n",
    "# # Check the shape.\n",
    "# print(pos_encoding.shape)\n",
    "\n",
    "# # Plot the dimensions.\n",
    "# plt.pcolormesh(pos_encoding.numpy().T, cmap='RdBu')\n",
    "# plt.ylabel('Depth')\n",
    "# plt.xlabel('Position')\n",
    "# plt.colorbar()\n",
    "# plt.show()"
   ]
  },
  {
   "cell_type": "code",
   "execution_count": 20,
   "id": "7b9cc8b0",
   "metadata": {},
   "outputs": [],
   "source": [
    "# #@title\n",
    "# pos_encoding/=tf.norm(pos_encoding, axis=1, keepdims=True)\n",
    "# p = pos_encoding[1000]\n",
    "# dots = tf.einsum('pd,d -> p', pos_encoding, p)\n",
    "# plt.subplot(2,1,1)\n",
    "# plt.plot(dots)\n",
    "# plt.ylim([0,1])\n",
    "# plt.plot([950, 950, float('nan'), 1050, 1050],\n",
    "#          [0,1,float('nan'),0,1], color='k', label='Zoom')\n",
    "# plt.legend()\n",
    "# plt.subplot(2,1,2)\n",
    "# plt.plot(dots)\n",
    "# plt.xlim([950, 1050])\n",
    "# plt.ylim([0,1])\n"
   ]
  },
  {
   "cell_type": "code",
   "execution_count": 21,
   "id": "43ae43ce",
   "metadata": {},
   "outputs": [],
   "source": [
    "class PositionalEmbedding(tf.keras.layers.Layer):\n",
    "    def __init__(self, vocab_size, d_model,length=2048,lag=1):\n",
    "        super().__init__()\n",
    "        self.d_model = d_model\n",
    "        self.embedding = tf.keras.layers.Embedding(vocab_size, d_model, mask_zero=True) \n",
    "        self.dense1 = tf.keras.layers.Dense(d_model) \n",
    "        self.dense2 = tf.keras.layers.Dense(d_model) \n",
    "        self.pos_encoding = positional_encoding(length=length, depth=d_model,lag=lag)\n",
    "\n",
    "    def compute_mask(self, *args, **kwargs):\n",
    "        return self.embedding.compute_mask(*args, **kwargs)\n",
    "\n",
    "    def call(self, A, B, lag):\n",
    "        length = tf.shape(A)[0]\n",
    "#         x = self.embedding(x)\n",
    "        \n",
    "        x=self.dense1(A)\n",
    "       \n",
    "        y=self.dense2(B)\n",
    "#         print(x.shape)\n",
    "#         print(x)\n",
    "#         print(self.pos_encoding[tf.newaxis, :length, :].shape)\n",
    "        # This factor sets the relative scale of the embedding and positonal_encoding.\n",
    "#         print(y.shape)\n",
    "        x *= tf.math.sqrt(tf.cast(self.d_model, tf.float32))\n",
    "        x = x + self.pos_encoding[ :length, :]\n",
    "        y *= tf.math.sqrt(tf.cast(self.d_model, tf.float32))\n",
    "        y = y + self.pos_encoding[ :length, :]\n",
    "#         print(y.shape)\n",
    "        \n",
    "#         D,L=makePacket(x,y,lag)\n",
    "        return x,y\n"
   ]
  },
  {
   "cell_type": "code",
   "execution_count": 22,
   "id": "08b3b850",
   "metadata": {},
   "outputs": [],
   "source": [
    "en=Data[9]\n",
    "pt=Count[9]"
   ]
  },
  {
   "cell_type": "code",
   "execution_count": 23,
   "id": "226ec4a0",
   "metadata": {},
   "outputs": [
    {
     "data": {
      "text/plain": [
       "(1771, 3)"
      ]
     },
     "execution_count": 23,
     "metadata": {},
     "output_type": "execute_result"
    }
   ],
   "source": [
    "en.shape"
   ]
  },
  {
   "cell_type": "code",
   "execution_count": 24,
   "id": "da5478b0",
   "metadata": {},
   "outputs": [
    {
     "data": {
      "text/plain": [
       "(1771, 1)"
      ]
     },
     "execution_count": 24,
     "metadata": {},
     "output_type": "execute_result"
    }
   ],
   "source": [
    "pt.shape"
   ]
  },
  {
   "cell_type": "code",
   "execution_count": 25,
   "id": "41d07ac2",
   "metadata": {},
   "outputs": [],
   "source": [
    "class CustomSchedule(tf.keras.optimizers.schedules.LearningRateSchedule):\n",
    "    def __init__(self, d_model, warmup_steps=4000):\n",
    "        super().__init__()\n",
    "\n",
    "        self.d_model = d_model\n",
    "        self.d_model = tf.cast(self.d_model, tf.float32)\n",
    "\n",
    "        self.warmup_steps = warmup_steps\n",
    "\n",
    "    def __call__(self, step):\n",
    "        step = tf.cast(step, dtype=tf.float32)\n",
    "        arg1 = tf.math.rsqrt(step)\n",
    "        arg2 = step * (self.warmup_steps ** -1.5)\n",
    "\n",
    "        return tf.math.rsqrt(self.d_model) * tf.math.minimum(arg1, arg2)"
   ]
  },
  {
   "cell_type": "code",
   "execution_count": null,
   "id": "a15446ed",
   "metadata": {},
   "outputs": [],
   "source": []
  },
  {
   "cell_type": "code",
   "execution_count": 26,
   "id": "f66ff8fc",
   "metadata": {},
   "outputs": [],
   "source": [
    "def custom_loss_function(y_true, y_pred):\n",
    "    squared_difference = tf.square(y_true - y_pred)\n",
    "    return tf.reduce_mean(squared_difference, axis=-1)"
   ]
  },
  {
   "cell_type": "code",
   "execution_count": 27,
   "id": "dddbca8d",
   "metadata": {},
   "outputs": [],
   "source": [
    "class BaseAttention(tf.keras.layers.Layer):\n",
    "    def __init__(self, **kwargs):\n",
    "        super().__init__()\n",
    "        self.mha = tf.keras.layers.MultiHeadAttention(**kwargs)\n",
    "        self.layernorm = tf.keras.layers.LayerNormalization()\n",
    "        self.add = tf.keras.layers.Add()"
   ]
  },
  {
   "cell_type": "code",
   "execution_count": 28,
   "id": "de795e15",
   "metadata": {},
   "outputs": [],
   "source": [
    "class CrossAttention(BaseAttention):\n",
    "    def call(self, x, context):\n",
    "        attn_output, attn_scores = self.mha(\n",
    "            query=x,\n",
    "            key=context,\n",
    "            value=context,\n",
    "            return_attention_scores=True)\n",
    "\n",
    "        # Cache the attention scores for plotting later.\n",
    "        self.last_attn_scores = attn_scores\n",
    "\n",
    "        x = self.add([x, attn_output])\n",
    "        x = self.layernorm(x)\n",
    "\n",
    "        return x"
   ]
  },
  {
   "cell_type": "code",
   "execution_count": 29,
   "id": "f8dff6b0",
   "metadata": {},
   "outputs": [],
   "source": [
    "class GlobalSelfAttention(BaseAttention):\n",
    "    def call(self, x):\n",
    "#         print(x.shape)\n",
    "        attn_output = self.mha(query=x, value=x, key=x)\n",
    "#         print(attn_output)\n",
    "        x = self.add([x, attn_output])\n",
    "        x = self.layernorm(x)\n",
    "        return x"
   ]
  },
  {
   "cell_type": "code",
   "execution_count": 30,
   "id": "4d490a66",
   "metadata": {},
   "outputs": [],
   "source": [
    "class CausalSelfAttention(BaseAttention):\n",
    "    def call(self, x):\n",
    "#         print('causal',x.shape)\n",
    "        attn_output = self.mha(\n",
    "            query=x,\n",
    "            value=x,\n",
    "            key=x,\n",
    "            )\n",
    "#         print('exit')\n",
    "        x = self.add([x, attn_output])\n",
    "        x = self.layernorm(x)\n",
    "        \n",
    "        return x"
   ]
  },
  {
   "cell_type": "code",
   "execution_count": 31,
   "id": "76c74ea7",
   "metadata": {},
   "outputs": [],
   "source": [
    "class FeedForward(tf.keras.layers.Layer):\n",
    "    def __init__(self, d_model, dff, dropout_rate=0.1):\n",
    "        super().__init__()\n",
    "        self.seq = tf.keras.Sequential([\n",
    "          tf.keras.layers.Dense(dff, activation='relu'),\n",
    "          tf.keras.layers.Dense(d_model, activation='relu'),\n",
    "          tf.keras.layers.Dropout(dropout_rate)\n",
    "        ])\n",
    "        self.add = tf.keras.layers.Add()\n",
    "        self.layer_norm = tf.keras.layers.LayerNormalization()\n",
    "\n",
    "    def call(self, x):\n",
    "        x = self.add([x, self.seq(x)])\n",
    "#         x = self.seq(x)\n",
    "        x = self.layer_norm(x) \n",
    "        return x\n"
   ]
  },
  {
   "cell_type": "code",
   "execution_count": 32,
   "id": "39d0faf3",
   "metadata": {},
   "outputs": [],
   "source": [
    "class EncoderLayer(tf.keras.layers.Layer):\n",
    "    def __init__(self,*, d_model, num_heads, dff, dropout_rate=0.1):\n",
    "        super().__init__()\n",
    "\n",
    "        self.self_attention = GlobalSelfAttention(\n",
    "            num_heads=num_heads,\n",
    "            key_dim=d_model,\n",
    "            dropout=dropout_rate)\n",
    "\n",
    "        self.ffn = FeedForward(d_model, dff)\n",
    "\n",
    "    def call(self, x):\n",
    "        x = self.self_attention(x)\n",
    "        x = self.ffn(x)\n",
    "        return x"
   ]
  },
  {
   "cell_type": "code",
   "execution_count": 33,
   "id": "f9ed4841",
   "metadata": {},
   "outputs": [],
   "source": [
    "class Encoder(tf.keras.layers.Layer):\n",
    "    def __init__(self, *, num_layers, d_model, num_heads,\n",
    "               dff, vocab_size, dropout_rate=0.1):\n",
    "        super().__init__()\n",
    "\n",
    "        self.d_model = d_model\n",
    "        self.num_layers = num_layers\n",
    "\n",
    "#         self.pos_embedding = PositionalEmbedding(\n",
    "#             vocab_size=vocab_size, d_model=d_model)\n",
    "\n",
    "        self.enc_layers = [\n",
    "            EncoderLayer(d_model=d_model,\n",
    "                         num_heads=num_heads,\n",
    "                         dff=dff,\n",
    "                         dropout_rate=dropout_rate)\n",
    "            for _ in range(num_layers)]\n",
    "        self.dropout = tf.keras.layers.Dropout(dropout_rate)\n",
    "\n",
    "    def call(self, x):\n",
    "        # `x` is token-IDs shape: (batch, seq_len)\n",
    "#         x = self.pos_embedding(x)  # Shape `(batch_size, seq_len, d_model)`.\n",
    "\n",
    "# #         Add dropout.\n",
    "        x = self.dropout(x)\n",
    "#         print('encoder: ',end='')\n",
    "#         print(x.shape)\n",
    "        \n",
    "        for i in range(self.num_layers):\n",
    "            x = self.enc_layers[i](x)\n",
    "\n",
    "        return x  # Shape `(batch_size, seq_len, d_model)`."
   ]
  },
  {
   "cell_type": "code",
   "execution_count": 34,
   "id": "4f47dbc9",
   "metadata": {},
   "outputs": [],
   "source": [
    "class DecoderLayer(tf.keras.layers.Layer):\n",
    "    def __init__(self,\n",
    "               *,\n",
    "               d_model,\n",
    "               num_heads,\n",
    "               dff,\n",
    "               dropout_rate=0.1):\n",
    "        super(DecoderLayer, self).__init__()\n",
    "\n",
    "        self.causal_self_attention = CausalSelfAttention(\n",
    "            num_heads=num_heads,\n",
    "            key_dim=d_model,\n",
    "            dropout=dropout_rate)\n",
    "\n",
    "        self.cross_attention = CrossAttention(\n",
    "            num_heads=num_heads,\n",
    "            key_dim=d_model,\n",
    "            dropout=dropout_rate)\n",
    "\n",
    "        self.ffn = FeedForward(d_model, dff)\n",
    "\n",
    "    def call(self, x, context):\n",
    "        x = self.causal_self_attention(x=x)\n",
    "        x = self.cross_attention(x=x, context=context)\n",
    "\n",
    "        # Cache the last attention scores for plotting later\n",
    "        self.last_attn_scores = self.cross_attention.last_attn_scores\n",
    "\n",
    "        x = self.ffn(x)  # Shape `(batch_size, seq_len, d_model)`.\n",
    "        return x"
   ]
  },
  {
   "cell_type": "code",
   "execution_count": 35,
   "id": "02fe3cbe",
   "metadata": {},
   "outputs": [],
   "source": [
    "class Decoder(tf.keras.layers.Layer):\n",
    "    def __init__(self, *, num_layers, d_model, num_heads, dff, vocab_size,\n",
    "               dropout_rate=0.1):\n",
    "        super(Decoder, self).__init__()\n",
    "\n",
    "        self.d_model = d_model\n",
    "        self.num_layers = num_layers\n",
    "\n",
    "#         self.pos_embedding = PositionalEmbedding(vocab_size=vocab_size,\n",
    "#                                                  d_model=d_model)\n",
    "        self.dropout = tf.keras.layers.Dropout(dropout_rate)\n",
    "        self.dec_layers = [\n",
    "            DecoderLayer(d_model=d_model, num_heads=num_heads,\n",
    "                         dff=dff, dropout_rate=dropout_rate)\n",
    "            for _ in range(num_layers)]\n",
    "\n",
    "        self.last_attn_scores = None\n",
    "\n",
    "    def call(self, x, context):\n",
    "        # `x` is token-IDs shape (batch, target_seq_len)\n",
    "#         x = self.pos_embedding(x)  # (batch_size, target_seq_len, d_model)\n",
    "\n",
    "#         x = self.dropout(x)\n",
    "#         print('decoder: ',end='')\n",
    "#         print(x.shape)\n",
    "\n",
    "        for i in range(self.num_layers):\n",
    "            x  = self.dec_layers[i](x, context)\n",
    "\n",
    "        self.last_attn_scores = self.dec_layers[-1].last_attn_scores\n",
    "\n",
    "        # The shape of x is (batch_size, target_seq_len, d_model).\n",
    "        return x"
   ]
  },
  {
   "cell_type": "code",
   "execution_count": 36,
   "id": "16d37353",
   "metadata": {},
   "outputs": [],
   "source": [
    "class Transformer(tf.keras.Model):\n",
    "    def __init__(self, *, num_layers, d_model, num_heads, dff,\n",
    "               input_vocab_size, target_vocab_size, dropout_rate=0.1):\n",
    "        super().__init__()\n",
    "        self.encoder = Encoder(num_layers=num_layers, d_model=d_model,\n",
    "                               num_heads=num_heads, dff=dff,\n",
    "                               vocab_size=input_vocab_size,\n",
    "                               dropout_rate=dropout_rate)\n",
    "\n",
    "        self.final_layer = tf.keras.layers.Dense(3,name='last')\n",
    "        self.input1=tf.keras.layers.Input(shape=(3,3,))\n",
    "        self.two=tf.keras.layers.Flatten()\n",
    "        self.three=tf.keras.layers.Dense(10000, activation='relu',name='three')\n",
    "        self.three1=tf.keras.layers.Dense(1000, activation='relu', name='three1')\n",
    "        self.four=tf.keras.layers.Dense(1, activation='relu',name='four')\n",
    "        self.out=0\n",
    "\n",
    "    def call(self, inputs):\n",
    "        # To use a Keras model with `.fit` you must pass all your inputs in the\n",
    "        # first argument.\n",
    "        context  = inputs\n",
    "        context = self.encoder(context)  # (batch_size, context_len, d_model)\n",
    "        x = self.two(context)\n",
    "        x = self.three(x)\n",
    "        x = self.three1(x)\n",
    "        logits = self.four(x)\n",
    "\n",
    "        try:\n",
    "          # Drop the keras mask, so it doesn't scale the losses/metrics.\n",
    "          # b/250038731\n",
    "            del logits._keras_mask\n",
    "        except AttributeError:\n",
    "            pass\n",
    "\n",
    "        # Return the final output and the attention weights.\n",
    "        return logits\n",
    "    "
   ]
  },
  {
   "cell_type": "code",
   "execution_count": 42,
   "id": "3720bc68",
   "metadata": {},
   "outputs": [],
   "source": [
    "lag=3\n",
    "num_layers = 5\n",
    "d_model = 9\n",
    "dff = 1000\n",
    "num_heads = 20\n",
    "dropout_rate = 0.1"
   ]
  },
  {
   "cell_type": "code",
   "execution_count": 43,
   "id": "5b4cbf52",
   "metadata": {},
   "outputs": [],
   "source": [
    "transformer = Transformer(\n",
    "    num_layers=num_layers,\n",
    "    d_model=d_model,\n",
    "    num_heads=num_heads,\n",
    "    dff=dff,\n",
    "    input_vocab_size=500,\n",
    "    target_vocab_size=1,\n",
    "    dropout_rate=dropout_rate)"
   ]
  },
  {
   "cell_type": "code",
   "execution_count": 44,
   "id": "e03712d2",
   "metadata": {},
   "outputs": [],
   "source": [
    "learning_rate = CustomSchedule(d_model)\n",
    "# learning_rate = 0.1\n",
    "optimizer = tf.keras.optimizers.Adam(learning_rate, beta_1=0.9, beta_2=0.98, epsilon=1e-4)\n",
    "transformer.compile(loss='mse', optimizer=optimizer)"
   ]
  },
  {
   "cell_type": "code",
   "execution_count": 45,
   "id": "8e794fa6",
   "metadata": {},
   "outputs": [],
   "source": [
    "def createData(Data, Count, lag):\n",
    "    z=np.zeros((Data.shape[0],1))\n",
    "    v=np.zeros((Data.shape[0],3))\n",
    "    new=np.hstack((Data,z))\n",
    "    lbl=np.hstack((Count,v))\n",
    "    D,L=makePacket(new, lbl,lag)\n",
    "    pos_encoding = positional_encoding(length=new.shape[0], depth=4)\n",
    "    pos_encoding2 = positional_encoding(length=new.shape[0], depth=4)\n",
    "#     new=new+pos_encoding\n",
    "    label=lbl[:,0].reshape((-1,1))\n",
    "    _,label=makePacket(new[:,:-1], label.reshape((-1,1)),lag)\n",
    "    lbl=lbl+pos_encoding2\n",
    "    D,L=makePacket(new[:,:-1], lbl[:,:-1],lag)\n",
    "    label=Count[lag-1:].reshape((-1,1,1))\n",
    "    return D, label"
   ]
  },
  {
   "cell_type": "code",
   "execution_count": 46,
   "id": "93a07e96",
   "metadata": {},
   "outputs": [
    {
     "name": "stdout",
     "output_type": "stream",
     "text": [
      "9\n"
     ]
    }
   ],
   "source": [
    "AllData, Alllabel = [], []\n",
    "for i in range(9,10):\n",
    "    print(i)\n",
    "    D,L = createData(Data[i],Count[i],lag)\n",
    "    AllData.append(D)\n",
    "    Alllabel.append(L)"
   ]
  },
  {
   "cell_type": "code",
   "execution_count": 48,
   "id": "8d585e38",
   "metadata": {},
   "outputs": [],
   "source": [
    "D=D.reshape((-1,9))"
   ]
  },
  {
   "cell_type": "code",
   "execution_count": 53,
   "id": "fb7f8219",
   "metadata": {},
   "outputs": [
    {
     "data": {
      "text/plain": [
       "((1769, 9), (1769, 1, 1))"
      ]
     },
     "execution_count": 53,
     "metadata": {},
     "output_type": "execute_result"
    }
   ],
   "source": [
    "D.shape,L.shape"
   ]
  },
  {
   "cell_type": "code",
   "execution_count": 50,
   "id": "bb5af499",
   "metadata": {},
   "outputs": [],
   "source": [
    "E=AllData[0]\n",
    "F=Alllabel[0]\n",
    "for i in range(1,1):\n",
    "    E=np.vstack((E,AllData[i]))\n",
    "    F=np.vstack((F,Alllabel[i]))"
   ]
  },
  {
   "cell_type": "code",
   "execution_count": 51,
   "id": "56572c79",
   "metadata": {},
   "outputs": [
    {
     "data": {
      "text/plain": [
       "((1769, 3, 3), (1769, 1, 1))"
      ]
     },
     "execution_count": 51,
     "metadata": {},
     "output_type": "execute_result"
    }
   ],
   "source": [
    "E.shape,F.shape"
   ]
  },
  {
   "cell_type": "code",
   "execution_count": 54,
   "id": "a6effb08",
   "metadata": {},
   "outputs": [
    {
     "ename": "IndexError",
     "evalue": "Exception encountered when calling layer \"softmax\" (type Softmax).\n\ntuple index out of range\n\nCall arguments received by layer \"softmax\" (type Softmax):\n  • inputs=tf.Tensor(shape=(1769, 20), dtype=float32)\n  • mask=None",
     "output_type": "error",
     "traceback": [
      "\u001b[0;31m---------------------------------------------------------------------------\u001b[0m",
      "\u001b[0;31mIndexError\u001b[0m                                Traceback (most recent call last)",
      "Cell \u001b[0;32mIn [54], line 6\u001b[0m\n\u001b[1;32m      3\u001b[0m A\u001b[38;5;241m=\u001b[39mD\n\u001b[1;32m      4\u001b[0m B\u001b[38;5;241m=\u001b[39mL\n\u001b[0;32m----> 6\u001b[0m output1 \u001b[38;5;241m=\u001b[39m \u001b[43mtransformer\u001b[49m\u001b[43m(\u001b[49m\u001b[43m(\u001b[49m\u001b[43mA\u001b[49m\u001b[43m)\u001b[49m\u001b[43m)\u001b[49m\n\u001b[1;32m      7\u001b[0m output1\u001b[38;5;241m.\u001b[39mshape\n",
      "File \u001b[0;32m~/opt/miniconda3/envs/tensorflow/lib/python3.9/site-packages/keras/utils/traceback_utils.py:67\u001b[0m, in \u001b[0;36mfilter_traceback.<locals>.error_handler\u001b[0;34m(*args, **kwargs)\u001b[0m\n\u001b[1;32m     65\u001b[0m \u001b[38;5;28;01mexcept\u001b[39;00m \u001b[38;5;167;01mException\u001b[39;00m \u001b[38;5;28;01mas\u001b[39;00m e:  \u001b[38;5;66;03m# pylint: disable=broad-except\u001b[39;00m\n\u001b[1;32m     66\u001b[0m   filtered_tb \u001b[38;5;241m=\u001b[39m _process_traceback_frames(e\u001b[38;5;241m.\u001b[39m__traceback__)\n\u001b[0;32m---> 67\u001b[0m   \u001b[38;5;28;01mraise\u001b[39;00m e\u001b[38;5;241m.\u001b[39mwith_traceback(filtered_tb) \u001b[38;5;28;01mfrom\u001b[39;00m \u001b[38;5;28mNone\u001b[39m\n\u001b[1;32m     68\u001b[0m \u001b[38;5;28;01mfinally\u001b[39;00m:\n\u001b[1;32m     69\u001b[0m   \u001b[38;5;28;01mdel\u001b[39;00m filtered_tb\n",
      "Cell \u001b[0;32mIn [36], line 22\u001b[0m, in \u001b[0;36mTransformer.call\u001b[0;34m(self, inputs)\u001b[0m\n\u001b[1;32m     18\u001b[0m \u001b[38;5;28;01mdef\u001b[39;00m \u001b[38;5;21mcall\u001b[39m(\u001b[38;5;28mself\u001b[39m, inputs):\n\u001b[1;32m     19\u001b[0m     \u001b[38;5;66;03m# To use a Keras model with `.fit` you must pass all your inputs in the\u001b[39;00m\n\u001b[1;32m     20\u001b[0m     \u001b[38;5;66;03m# first argument.\u001b[39;00m\n\u001b[1;32m     21\u001b[0m     context  \u001b[38;5;241m=\u001b[39m inputs\n\u001b[0;32m---> 22\u001b[0m     context \u001b[38;5;241m=\u001b[39m \u001b[38;5;28;43mself\u001b[39;49m\u001b[38;5;241;43m.\u001b[39;49m\u001b[43mencoder\u001b[49m\u001b[43m(\u001b[49m\u001b[43mcontext\u001b[49m\u001b[43m)\u001b[49m  \u001b[38;5;66;03m# (batch_size, context_len, d_model)\u001b[39;00m\n\u001b[1;32m     23\u001b[0m     x \u001b[38;5;241m=\u001b[39m \u001b[38;5;28mself\u001b[39m\u001b[38;5;241m.\u001b[39mtwo(context)\n\u001b[1;32m     24\u001b[0m     x \u001b[38;5;241m=\u001b[39m \u001b[38;5;28mself\u001b[39m\u001b[38;5;241m.\u001b[39mthree(x)\n",
      "Cell \u001b[0;32mIn [33], line 30\u001b[0m, in \u001b[0;36mEncoder.call\u001b[0;34m(self, x)\u001b[0m\n\u001b[1;32m     26\u001b[0m \u001b[38;5;66;03m#         print('encoder: ',end='')\u001b[39;00m\n\u001b[1;32m     27\u001b[0m \u001b[38;5;66;03m#         print(x.shape)\u001b[39;00m\n\u001b[1;32m     29\u001b[0m         \u001b[38;5;28;01mfor\u001b[39;00m i \u001b[38;5;129;01min\u001b[39;00m \u001b[38;5;28mrange\u001b[39m(\u001b[38;5;28mself\u001b[39m\u001b[38;5;241m.\u001b[39mnum_layers):\n\u001b[0;32m---> 30\u001b[0m             x \u001b[38;5;241m=\u001b[39m \u001b[38;5;28;43mself\u001b[39;49m\u001b[38;5;241;43m.\u001b[39;49m\u001b[43menc_layers\u001b[49m\u001b[43m[\u001b[49m\u001b[43mi\u001b[49m\u001b[43m]\u001b[49m\u001b[43m(\u001b[49m\u001b[43mx\u001b[49m\u001b[43m)\u001b[49m\n\u001b[1;32m     32\u001b[0m         \u001b[38;5;28;01mreturn\u001b[39;00m x\n",
      "Cell \u001b[0;32mIn [32], line 13\u001b[0m, in \u001b[0;36mEncoderLayer.call\u001b[0;34m(self, x)\u001b[0m\n\u001b[1;32m     12\u001b[0m \u001b[38;5;28;01mdef\u001b[39;00m \u001b[38;5;21mcall\u001b[39m(\u001b[38;5;28mself\u001b[39m, x):\n\u001b[0;32m---> 13\u001b[0m     x \u001b[38;5;241m=\u001b[39m \u001b[38;5;28;43mself\u001b[39;49m\u001b[38;5;241;43m.\u001b[39;49m\u001b[43mself_attention\u001b[49m\u001b[43m(\u001b[49m\u001b[43mx\u001b[49m\u001b[43m)\u001b[49m\n\u001b[1;32m     14\u001b[0m     x \u001b[38;5;241m=\u001b[39m \u001b[38;5;28mself\u001b[39m\u001b[38;5;241m.\u001b[39mffn(x)\n\u001b[1;32m     15\u001b[0m     \u001b[38;5;28;01mreturn\u001b[39;00m x\n",
      "Cell \u001b[0;32mIn [29], line 4\u001b[0m, in \u001b[0;36mGlobalSelfAttention.call\u001b[0;34m(self, x)\u001b[0m\n\u001b[1;32m      2\u001b[0m     \u001b[38;5;28;01mdef\u001b[39;00m \u001b[38;5;21mcall\u001b[39m(\u001b[38;5;28mself\u001b[39m, x):\n\u001b[1;32m      3\u001b[0m \u001b[38;5;66;03m#         print(x.shape)\u001b[39;00m\n\u001b[0;32m----> 4\u001b[0m         attn_output \u001b[38;5;241m=\u001b[39m \u001b[38;5;28;43mself\u001b[39;49m\u001b[38;5;241;43m.\u001b[39;49m\u001b[43mmha\u001b[49m\u001b[43m(\u001b[49m\u001b[43mquery\u001b[49m\u001b[38;5;241;43m=\u001b[39;49m\u001b[43mx\u001b[49m\u001b[43m,\u001b[49m\u001b[43m \u001b[49m\u001b[43mvalue\u001b[49m\u001b[38;5;241;43m=\u001b[39;49m\u001b[43mx\u001b[49m\u001b[43m,\u001b[49m\u001b[43m \u001b[49m\u001b[43mkey\u001b[49m\u001b[38;5;241;43m=\u001b[39;49m\u001b[43mx\u001b[49m\u001b[43m)\u001b[49m\n\u001b[1;32m      5\u001b[0m \u001b[38;5;66;03m#         print(attn_output)\u001b[39;00m\n\u001b[1;32m      6\u001b[0m         x \u001b[38;5;241m=\u001b[39m \u001b[38;5;28mself\u001b[39m\u001b[38;5;241m.\u001b[39madd([x, attn_output])\n",
      "\u001b[0;31mIndexError\u001b[0m: Exception encountered when calling layer \"softmax\" (type Softmax).\n\ntuple index out of range\n\nCall arguments received by layer \"softmax\" (type Softmax):\n  • inputs=tf.Tensor(shape=(1769, 20), dtype=float32)\n  • mask=None"
     ]
    }
   ],
   "source": [
    "A=en[:10]\n",
    "B=pt[:10]\n",
    "A=D\n",
    "B=L\n",
    "\n",
    "output1 = transformer((A))\n",
    "output1.shape"
   ]
  },
  {
   "cell_type": "code",
   "execution_count": 345,
   "id": "d8ad3286",
   "metadata": {},
   "outputs": [
    {
     "name": "stdout",
     "output_type": "stream",
     "text": [
      "Model: \"transformer_9\"\n",
      "_________________________________________________________________\n",
      " Layer (type)                Output Shape              Param #   \n",
      "=================================================================\n",
      " encoder_9 (Encoder)         multiple                  39590     \n",
      "                                                                 \n",
      " last (Dense)                multiple                  0 (unused)\n",
      "                                                                 \n",
      " flatten_11 (Flatten)        multiple                  0         \n",
      "                                                                 \n",
      " three (Dense)               multiple                  1510000   \n",
      "                                                                 \n",
      " three1 (Dense)              multiple                  10001000  \n",
      "                                                                 \n",
      " four (Dense)                multiple                  1001      \n",
      "                                                                 \n",
      "=================================================================\n",
      "Total params: 11,551,591\n",
      "Trainable params: 11,551,591\n",
      "Non-trainable params: 0\n",
      "_________________________________________________________________\n"
     ]
    }
   ],
   "source": [
    "transformer.summary()"
   ]
  },
  {
   "cell_type": "code",
   "execution_count": null,
   "id": "39ea17e1",
   "metadata": {},
   "outputs": [],
   "source": []
  },
  {
   "cell_type": "code",
   "execution_count": 346,
   "id": "e54db143",
   "metadata": {},
   "outputs": [],
   "source": [
    "Input=(E)"
   ]
  },
  {
   "cell_type": "code",
   "execution_count": 347,
   "id": "bc81e479",
   "metadata": {},
   "outputs": [],
   "source": [
    "target=F"
   ]
  },
  {
   "cell_type": "code",
   "execution_count": 348,
   "id": "310204fe",
   "metadata": {},
   "outputs": [],
   "source": [
    "callbacks = [keras.callbacks.EarlyStopping(monitor='loss',patience=10, restore_best_weights=True)]"
   ]
  },
  {
   "cell_type": "code",
   "execution_count": 349,
   "id": "db20efbd",
   "metadata": {},
   "outputs": [
    {
     "name": "stdout",
     "output_type": "stream",
     "text": [
      "Epoch 1/10000\n",
      "2/2 [==============================] - 10s 3s/step - loss: 2.6068\n",
      "Epoch 2/10000\n",
      "2/2 [==============================] - 5s 2s/step - loss: 2.6079\n",
      "Epoch 3/10000\n",
      "2/2 [==============================] - 5s 2s/step - loss: 2.5970\n",
      "Epoch 4/10000\n",
      "2/2 [==============================] - 4s 1s/step - loss: 2.5850\n",
      "Epoch 5/10000\n",
      "2/2 [==============================] - 4s 1s/step - loss: 2.5338\n",
      "Epoch 6/10000\n",
      "2/2 [==============================] - 4s 1s/step - loss: 2.4655\n",
      "Epoch 7/10000\n",
      "2/2 [==============================] - 4s 1s/step - loss: 2.3754\n",
      "Epoch 8/10000\n",
      "2/2 [==============================] - 3s 1s/step - loss: 2.2756\n",
      "Epoch 9/10000\n",
      "2/2 [==============================] - 3s 1s/step - loss: 2.1579\n",
      "Epoch 10/10000\n",
      "2/2 [==============================] - 3s 1s/step - loss: 2.0151\n",
      "Epoch 11/10000\n",
      "2/2 [==============================] - 3s 1s/step - loss: 1.8338\n",
      "Epoch 12/10000\n",
      "2/2 [==============================] - 3s 1s/step - loss: 1.6848\n",
      "Epoch 13/10000\n",
      "2/2 [==============================] - 3s 1s/step - loss: 1.5414\n",
      "Epoch 14/10000\n",
      "2/2 [==============================] - 3s 1s/step - loss: 1.3566\n",
      "Epoch 15/10000\n",
      "2/2 [==============================] - 3s 1s/step - loss: 1.1909\n",
      "Epoch 16/10000\n",
      "2/2 [==============================] - 3s 1s/step - loss: 1.0137\n",
      "Epoch 17/10000\n",
      "2/2 [==============================] - 2s 1s/step - loss: 0.8678\n",
      "Epoch 18/10000\n",
      "2/2 [==============================] - 3s 1s/step - loss: 0.7262\n",
      "Epoch 19/10000\n",
      "2/2 [==============================] - 2s 1s/step - loss: 0.6718\n",
      "Epoch 20/10000\n",
      "2/2 [==============================] - 3s 1s/step - loss: 0.4837\n",
      "Epoch 21/10000\n",
      "2/2 [==============================] - 2s 1s/step - loss: 0.4093\n",
      "Epoch 22/10000\n",
      "2/2 [==============================] - 3s 1s/step - loss: 0.3786\n",
      "Epoch 23/10000\n",
      "2/2 [==============================] - 3s 1s/step - loss: 0.2891\n",
      "Epoch 24/10000\n",
      "2/2 [==============================] - 3s 1s/step - loss: 0.2747\n",
      "Epoch 25/10000\n",
      "2/2 [==============================] - 3s 1s/step - loss: 0.2211\n",
      "Epoch 26/10000\n",
      "2/2 [==============================] - 2s 994ms/step - loss: 0.2206\n",
      "Epoch 27/10000\n",
      "2/2 [==============================] - 2s 1000ms/step - loss: 0.1415\n",
      "Epoch 28/10000\n",
      "2/2 [==============================] - 2s 980ms/step - loss: 0.1457\n",
      "Epoch 29/10000\n",
      "2/2 [==============================] - 2s 977ms/step - loss: 0.1144\n",
      "Epoch 30/10000\n",
      "2/2 [==============================] - 2s 1s/step - loss: 0.1209\n",
      "Epoch 31/10000\n",
      "2/2 [==============================] - 3s 958ms/step - loss: 0.1718\n",
      "Epoch 32/10000\n",
      "2/2 [==============================] - 3s 949ms/step - loss: 0.1457\n",
      "Epoch 33/10000\n",
      "2/2 [==============================] - 2s 948ms/step - loss: 0.1222\n",
      "Epoch 34/10000\n",
      "2/2 [==============================] - 3s 1s/step - loss: 0.1127\n",
      "Epoch 35/10000\n",
      "2/2 [==============================] - 3s 945ms/step - loss: 0.1226\n",
      "Epoch 36/10000\n",
      "2/2 [==============================] - 2s 997ms/step - loss: 0.0873\n",
      "Epoch 37/10000\n",
      "2/2 [==============================] - 2s 940ms/step - loss: 0.0935\n",
      "Epoch 38/10000\n",
      "2/2 [==============================] - 2s 997ms/step - loss: 0.0783\n",
      "Epoch 39/10000\n",
      "2/2 [==============================] - 2s 944ms/step - loss: 0.1439\n",
      "Epoch 40/10000\n",
      "2/2 [==============================] - 2s 938ms/step - loss: 0.1038\n",
      "Epoch 41/10000\n",
      "2/2 [==============================] - 2s 966ms/step - loss: 0.1076\n",
      "Epoch 42/10000\n",
      "2/2 [==============================] - 2s 956ms/step - loss: 0.1250\n",
      "Epoch 43/10000\n",
      "2/2 [==============================] - 2s 982ms/step - loss: 0.1033\n",
      "Epoch 44/10000\n",
      "2/2 [==============================] - 2s 930ms/step - loss: 0.1098\n",
      "Epoch 45/10000\n",
      "2/2 [==============================] - 2s 948ms/step - loss: 0.1173\n",
      "Epoch 46/10000\n",
      "2/2 [==============================] - 2s 939ms/step - loss: 0.0839\n",
      "Epoch 47/10000\n",
      "2/2 [==============================] - 2s 927ms/step - loss: 0.1022\n",
      "Epoch 48/10000\n",
      "2/2 [==============================] - 2s 994ms/step - loss: 0.0920\n"
     ]
    },
    {
     "data": {
      "text/plain": [
       "<keras.callbacks.History at 0x179e9b100>"
      ]
     },
     "execution_count": 349,
     "metadata": {},
     "output_type": "execute_result"
    }
   ],
   "source": [
    "transformer.fit(Input,target.reshape((-1,1)),epochs=10000,batch_size=1024, callbacks=callbacks)"
   ]
  },
  {
   "cell_type": "code",
   "execution_count": 350,
   "id": "42937814",
   "metadata": {},
   "outputs": [
    {
     "name": "stdout",
     "output_type": "stream",
     "text": [
      "54/54 [==============================] - 7s 102ms/step\n"
     ]
    },
    {
     "data": {
      "image/png": "[encoded data removed]",
      "text/plain": [
       "<Figure size 1500x500 with 1 Axes>"
      ]
     },
     "metadata": {},
     "output_type": "display_data"
    }
   ],
   "source": [
    "for i in range(1):\n",
    "    A=AllData[i]\n",
    "    B=Alllabel[i]\n",
    "    P=transformer.predict(A)\n",
    "    plt.plot(np.cumsum(P),color='b')\n",
    "    plt.plot(np.cumsum(B),color='r')\n",
    "    plt.show()"
   ]
  },
  {
   "cell_type": "code",
   "execution_count": 351,
   "id": "0204c29d",
   "metadata": {},
   "outputs": [
    {
     "data": {
      "text/plain": [
       "[<matplotlib.lines.Line2D at 0x2c86a6f10>]"
      ]
     },
     "execution_count": 351,
     "metadata": {},
     "output_type": "execute_result"
    },
    {
     "data": {
      "image/png": "[encoded data removed]",
      "text/plain": [
       "<Figure size 1500x500 with 1 Axes>"
      ]
     },
     "metadata": {},
     "output_type": "display_data"
    }
   ],
   "source": [
    "plt.plot(B.reshape((-1,1)))\n",
    "plt.plot(P)\n"
   ]
  },
  {
   "cell_type": "code",
   "execution_count": 196,
   "id": "38c300d0",
   "metadata": {},
   "outputs": [
    {
     "data": {
      "text/plain": [
       "(1768, 4, 3)"
      ]
     },
     "execution_count": 196,
     "metadata": {},
     "output_type": "execute_result"
    }
   ],
   "source": [
    "E.shape"
   ]
  },
  {
   "cell_type": "code",
   "execution_count": 197,
   "id": "ca24aa9e",
   "metadata": {},
   "outputs": [],
   "source": [
    "from tensorflow.keras import datasets, layers, models"
   ]
  },
  {
   "cell_type": "code",
   "execution_count": null,
   "id": "344bd86a",
   "metadata": {},
   "outputs": [],
   "source": []
  },
  {
   "cell_type": "code",
   "execution_count": 198,
   "id": "24bda8c1",
   "metadata": {},
   "outputs": [],
   "source": [
    "model = models.Sequential()\n",
    "model.add(layers.Conv2D(128, (2, 2), activation='relu', padding='same', input_shape=(4, 3, 1)))\n",
    "model.add(layers.MaxPooling2D((2, 2)))\n",
    "# model.add(layers.Conv2D(64, (2,2), activation='relu'))\n",
    "# model.add(layers.MaxPooling2D((2, 2)))\n",
    "# model.add(layers.Conv2D(64, (3, 3), activation='relu'))\n",
    "\n",
    "model.add(layers.Flatten())\n",
    "model.add(layers.Dense(64, activation='relu'))\n",
    "model.add(layers.Dense(1, activation='relu'))"
   ]
  },
  {
   "cell_type": "code",
   "execution_count": 199,
   "id": "42be3f40",
   "metadata": {},
   "outputs": [
    {
     "name": "stdout",
     "output_type": "stream",
     "text": [
      "Model: \"sequential_21\"\n",
      "_________________________________________________________________\n",
      " Layer (type)                Output Shape              Param #   \n",
      "=================================================================\n",
      " conv2d_1 (Conv2D)           (None, 4, 3, 128)         640       \n",
      "                                                                 \n",
      " max_pooling2d_1 (MaxPooling  (None, 2, 1, 128)        0         \n",
      " 2D)                                                             \n",
      "                                                                 \n",
      " flatten_5 (Flatten)         (None, 256)               0         \n",
      "                                                                 \n",
      " dense_42 (Dense)            (None, 64)                16448     \n",
      "                                                                 \n",
      " dense_43 (Dense)            (None, 1)                 65        \n",
      "                                                                 \n",
      "=================================================================\n",
      "Total params: 17,153\n",
      "Trainable params: 17,153\n",
      "Non-trainable params: 0\n",
      "_________________________________________________________________\n"
     ]
    }
   ],
   "source": [
    "model.summary()"
   ]
  },
  {
   "cell_type": "code",
   "execution_count": 200,
   "id": "ca1a8055",
   "metadata": {},
   "outputs": [
    {
     "name": "stdout",
     "output_type": "stream",
     "text": [
      "Epoch 1/1000\n",
      "56/56 [==============================] - 1s 12ms/step - loss: 2.5076\n",
      "Epoch 2/1000\n",
      "56/56 [==============================] - 0s 5ms/step - loss: 2.4876\n",
      "Epoch 3/1000\n",
      "56/56 [==============================] - 0s 5ms/step - loss: 2.4735\n",
      "Epoch 4/1000\n",
      "56/56 [==============================] - 0s 5ms/step - loss: 2.4288\n",
      "Epoch 5/1000\n",
      "56/56 [==============================] - 0s 5ms/step - loss: 2.4262\n",
      "Epoch 6/1000\n",
      "56/56 [==============================] - 0s 5ms/step - loss: 2.3542\n",
      "Epoch 7/1000\n",
      "56/56 [==============================] - 0s 5ms/step - loss: 2.2525\n",
      "Epoch 8/1000\n",
      "56/56 [==============================] - 0s 5ms/step - loss: 2.0788\n",
      "Epoch 9/1000\n",
      "56/56 [==============================] - 0s 5ms/step - loss: 1.8122\n",
      "Epoch 10/1000\n",
      "56/56 [==============================] - 0s 5ms/step - loss: 1.4587\n",
      "Epoch 11/1000\n",
      "56/56 [==============================] - 0s 5ms/step - loss: 1.1922\n",
      "Epoch 12/1000\n",
      "56/56 [==============================] - 0s 5ms/step - loss: 1.0179\n",
      "Epoch 13/1000\n",
      "56/56 [==============================] - 0s 5ms/step - loss: 0.9843\n",
      "Epoch 14/1000\n",
      "56/56 [==============================] - 0s 5ms/step - loss: 0.9433\n",
      "Epoch 15/1000\n",
      "56/56 [==============================] - 0s 5ms/step - loss: 0.9711\n",
      "Epoch 16/1000\n",
      "56/56 [==============================] - 0s 5ms/step - loss: 0.9480\n",
      "Epoch 17/1000\n",
      "56/56 [==============================] - 0s 5ms/step - loss: 0.8985\n",
      "Epoch 18/1000\n",
      "56/56 [==============================] - 0s 5ms/step - loss: 0.9066\n",
      "Epoch 19/1000\n",
      "56/56 [==============================] - 0s 5ms/step - loss: 0.9332\n",
      "Epoch 20/1000\n",
      "56/56 [==============================] - 0s 5ms/step - loss: 0.8912\n",
      "Epoch 21/1000\n",
      "56/56 [==============================] - 0s 5ms/step - loss: 0.8669\n",
      "Epoch 22/1000\n",
      "56/56 [==============================] - 0s 5ms/step - loss: 0.8566\n",
      "Epoch 23/1000\n",
      "56/56 [==============================] - 0s 5ms/step - loss: 0.8661\n",
      "Epoch 24/1000\n",
      "56/56 [==============================] - 0s 5ms/step - loss: 0.8349\n",
      "Epoch 25/1000\n",
      "56/56 [==============================] - 0s 5ms/step - loss: 0.8435\n",
      "Epoch 26/1000\n",
      "56/56 [==============================] - 0s 5ms/step - loss: 0.8318\n",
      "Epoch 27/1000\n",
      "56/56 [==============================] - 0s 5ms/step - loss: 0.8043\n",
      "Epoch 28/1000\n",
      "56/56 [==============================] - 0s 5ms/step - loss: 0.8314\n",
      "Epoch 29/1000\n",
      "56/56 [==============================] - 0s 5ms/step - loss: 0.8090\n",
      "Epoch 30/1000\n",
      "56/56 [==============================] - 0s 5ms/step - loss: 0.8061\n",
      "Epoch 31/1000\n",
      "56/56 [==============================] - 0s 5ms/step - loss: 0.7901\n",
      "Epoch 32/1000\n",
      "56/56 [==============================] - 0s 5ms/step - loss: 0.7968\n",
      "Epoch 33/1000\n",
      "56/56 [==============================] - 0s 5ms/step - loss: 0.7825\n",
      "Epoch 34/1000\n",
      "56/56 [==============================] - 0s 5ms/step - loss: 0.7834\n",
      "Epoch 35/1000\n",
      "56/56 [==============================] - 0s 5ms/step - loss: 0.8094\n",
      "Epoch 36/1000\n",
      "56/56 [==============================] - 0s 5ms/step - loss: 0.7934\n",
      "Epoch 37/1000\n",
      "56/56 [==============================] - 0s 5ms/step - loss: 0.7798\n",
      "Epoch 38/1000\n",
      "56/56 [==============================] - 0s 5ms/step - loss: 0.7796\n",
      "Epoch 39/1000\n",
      "56/56 [==============================] - 0s 5ms/step - loss: 0.7602\n",
      "Epoch 40/1000\n",
      "56/56 [==============================] - 0s 5ms/step - loss: 0.7608\n",
      "Epoch 41/1000\n",
      "56/56 [==============================] - 0s 5ms/step - loss: 0.7904\n",
      "Epoch 42/1000\n",
      "56/56 [==============================] - 0s 5ms/step - loss: 0.7244\n",
      "Epoch 43/1000\n",
      "56/56 [==============================] - 0s 5ms/step - loss: 0.7199\n",
      "Epoch 44/1000\n",
      "56/56 [==============================] - 0s 5ms/step - loss: 0.7635\n",
      "Epoch 45/1000\n",
      "56/56 [==============================] - 0s 5ms/step - loss: 0.7411\n",
      "Epoch 46/1000\n",
      "56/56 [==============================] - 0s 5ms/step - loss: 0.7296\n",
      "Epoch 47/1000\n",
      "56/56 [==============================] - 0s 5ms/step - loss: 0.7577\n",
      "Epoch 48/1000\n",
      "56/56 [==============================] - 0s 5ms/step - loss: 0.7371\n",
      "Epoch 49/1000\n",
      "56/56 [==============================] - 0s 5ms/step - loss: 0.7594\n",
      "Epoch 50/1000\n",
      "56/56 [==============================] - 0s 5ms/step - loss: 0.7176\n",
      "Epoch 51/1000\n",
      "56/56 [==============================] - 0s 5ms/step - loss: 0.7387\n",
      "Epoch 52/1000\n",
      "56/56 [==============================] - 0s 5ms/step - loss: 0.7185\n",
      "Epoch 53/1000\n",
      "56/56 [==============================] - 0s 5ms/step - loss: 0.7208\n",
      "Epoch 54/1000\n",
      "56/56 [==============================] - 0s 5ms/step - loss: 0.7143\n",
      "Epoch 55/1000\n",
      "56/56 [==============================] - 0s 4ms/step - loss: 0.7217\n",
      "Epoch 56/1000\n",
      "56/56 [==============================] - 0s 5ms/step - loss: 0.6985\n",
      "Epoch 57/1000\n",
      "56/56 [==============================] - 0s 5ms/step - loss: 0.7302\n",
      "Epoch 58/1000\n",
      "56/56 [==============================] - 0s 5ms/step - loss: 0.7031\n",
      "Epoch 59/1000\n",
      "56/56 [==============================] - 0s 5ms/step - loss: 0.6785\n",
      "Epoch 60/1000\n",
      "56/56 [==============================] - 0s 5ms/step - loss: 0.6932\n",
      "Epoch 61/1000\n",
      "56/56 [==============================] - 0s 5ms/step - loss: 0.7339\n",
      "Epoch 62/1000\n",
      "56/56 [==============================] - 0s 5ms/step - loss: 0.6785\n",
      "Epoch 63/1000\n",
      "56/56 [==============================] - 0s 5ms/step - loss: 0.6795\n",
      "Epoch 64/1000\n",
      "56/56 [==============================] - 0s 5ms/step - loss: 0.6923\n",
      "Epoch 65/1000\n",
      "56/56 [==============================] - 0s 5ms/step - loss: 0.6645\n",
      "Epoch 66/1000\n",
      "56/56 [==============================] - 0s 5ms/step - loss: 0.6542\n",
      "Epoch 67/1000\n",
      "56/56 [==============================] - 0s 5ms/step - loss: 0.7555\n",
      "Epoch 68/1000\n",
      "56/56 [==============================] - 0s 5ms/step - loss: 0.6608\n",
      "Epoch 69/1000\n",
      "56/56 [==============================] - 0s 5ms/step - loss: 0.6431\n",
      "Epoch 70/1000\n",
      "56/56 [==============================] - 0s 5ms/step - loss: 0.6413\n",
      "Epoch 71/1000\n",
      "56/56 [==============================] - 0s 5ms/step - loss: 0.6567\n",
      "Epoch 72/1000\n",
      "56/56 [==============================] - 0s 5ms/step - loss: 0.6467\n",
      "Epoch 73/1000\n",
      "56/56 [==============================] - 0s 5ms/step - loss: 0.6364\n",
      "Epoch 74/1000\n",
      "56/56 [==============================] - 0s 5ms/step - loss: 0.6583\n",
      "Epoch 75/1000\n",
      "56/56 [==============================] - 0s 5ms/step - loss: 0.6453\n",
      "Epoch 76/1000\n",
      "56/56 [==============================] - 0s 5ms/step - loss: 0.6892\n",
      "Epoch 77/1000\n",
      "56/56 [==============================] - 0s 5ms/step - loss: 0.6388\n",
      "Epoch 78/1000\n",
      "56/56 [==============================] - 0s 5ms/step - loss: 0.6443\n",
      "Epoch 79/1000\n",
      "56/56 [==============================] - 0s 5ms/step - loss: 0.7045\n",
      "Epoch 80/1000\n",
      "56/56 [==============================] - 0s 5ms/step - loss: 0.6183\n",
      "Epoch 81/1000\n",
      "56/56 [==============================] - 0s 5ms/step - loss: 0.6132\n",
      "Epoch 82/1000\n",
      "56/56 [==============================] - 0s 5ms/step - loss: 0.6091\n",
      "Epoch 83/1000\n",
      "56/56 [==============================] - 0s 5ms/step - loss: 0.6114\n",
      "Epoch 84/1000\n",
      "56/56 [==============================] - 0s 5ms/step - loss: 0.6028\n",
      "Epoch 85/1000\n",
      "56/56 [==============================] - 0s 5ms/step - loss: 0.5996\n",
      "Epoch 86/1000\n",
      "56/56 [==============================] - 0s 5ms/step - loss: 0.5885\n",
      "Epoch 87/1000\n",
      "56/56 [==============================] - 0s 5ms/step - loss: 0.6419\n",
      "Epoch 88/1000\n",
      "56/56 [==============================] - 0s 5ms/step - loss: 0.6001\n",
      "Epoch 89/1000\n",
      "56/56 [==============================] - 0s 5ms/step - loss: 0.6014\n",
      "Epoch 90/1000\n",
      "56/56 [==============================] - 0s 5ms/step - loss: 0.5805\n",
      "Epoch 91/1000\n",
      "56/56 [==============================] - 0s 5ms/step - loss: 0.5668\n",
      "Epoch 92/1000\n",
      "56/56 [==============================] - 0s 5ms/step - loss: 0.6199\n",
      "Epoch 93/1000\n",
      "56/56 [==============================] - 0s 5ms/step - loss: 0.5869\n",
      "Epoch 94/1000\n",
      "56/56 [==============================] - 0s 5ms/step - loss: 0.5834\n",
      "Epoch 95/1000\n",
      "56/56 [==============================] - 0s 5ms/step - loss: 0.5721\n",
      "Epoch 96/1000\n",
      "56/56 [==============================] - 0s 5ms/step - loss: 0.5889\n",
      "Epoch 97/1000\n",
      "56/56 [==============================] - 0s 5ms/step - loss: 0.5744\n",
      "Epoch 98/1000\n",
      "56/56 [==============================] - 0s 5ms/step - loss: 0.5679\n",
      "Epoch 99/1000\n",
      "56/56 [==============================] - 0s 5ms/step - loss: 0.5719\n",
      "Epoch 100/1000\n",
      "56/56 [==============================] - 0s 5ms/step - loss: 0.5590\n"
     ]
    },
    {
     "name": "stdout",
     "output_type": "stream",
     "text": [
      "Epoch 101/1000\n",
      "56/56 [==============================] - 0s 5ms/step - loss: 0.5758\n",
      "Epoch 102/1000\n",
      "56/56 [==============================] - 0s 4ms/step - loss: 0.5656\n",
      "Epoch 103/1000\n",
      "56/56 [==============================] - 0s 5ms/step - loss: 0.5713\n",
      "Epoch 104/1000\n",
      "56/56 [==============================] - 0s 4ms/step - loss: 0.5651\n",
      "Epoch 105/1000\n",
      "56/56 [==============================] - 0s 5ms/step - loss: 0.5670\n",
      "Epoch 106/1000\n",
      "56/56 [==============================] - 0s 5ms/step - loss: 0.5483\n",
      "Epoch 107/1000\n",
      "56/56 [==============================] - 0s 5ms/step - loss: 0.5524\n",
      "Epoch 108/1000\n",
      "56/56 [==============================] - 0s 4ms/step - loss: 0.5391\n",
      "Epoch 109/1000\n",
      "56/56 [==============================] - 0s 5ms/step - loss: 0.5414\n",
      "Epoch 110/1000\n",
      "56/56 [==============================] - 0s 5ms/step - loss: 0.5631\n",
      "Epoch 111/1000\n",
      "56/56 [==============================] - 0s 4ms/step - loss: 0.5489\n",
      "Epoch 112/1000\n",
      "56/56 [==============================] - 0s 5ms/step - loss: 0.5706\n",
      "Epoch 113/1000\n",
      "56/56 [==============================] - 0s 5ms/step - loss: 0.5608\n",
      "Epoch 114/1000\n",
      "56/56 [==============================] - 0s 5ms/step - loss: 0.5436\n",
      "Epoch 115/1000\n",
      "56/56 [==============================] - 0s 5ms/step - loss: 0.5265\n",
      "Epoch 116/1000\n",
      "56/56 [==============================] - 0s 5ms/step - loss: 0.5449\n",
      "Epoch 117/1000\n",
      "56/56 [==============================] - 0s 7ms/step - loss: 0.5530\n",
      "Epoch 118/1000\n",
      "56/56 [==============================] - 0s 8ms/step - loss: 0.5503\n",
      "Epoch 119/1000\n",
      "56/56 [==============================] - 0s 5ms/step - loss: 0.5186\n",
      "Epoch 120/1000\n",
      "56/56 [==============================] - 0s 5ms/step - loss: 0.5392\n",
      "Epoch 121/1000\n",
      "56/56 [==============================] - 0s 5ms/step - loss: 0.5200\n",
      "Epoch 122/1000\n",
      "56/56 [==============================] - 0s 5ms/step - loss: 0.5306\n",
      "Epoch 123/1000\n",
      "56/56 [==============================] - 0s 5ms/step - loss: 0.5344\n",
      "Epoch 124/1000\n",
      "56/56 [==============================] - 0s 5ms/step - loss: 0.5311\n",
      "Epoch 125/1000\n",
      "56/56 [==============================] - 0s 5ms/step - loss: 0.5338\n",
      "Epoch 126/1000\n",
      "56/56 [==============================] - 0s 5ms/step - loss: 0.5489\n",
      "Epoch 127/1000\n",
      "56/56 [==============================] - 0s 5ms/step - loss: 0.5122\n",
      "Epoch 128/1000\n",
      "56/56 [==============================] - 0s 5ms/step - loss: 0.5353\n",
      "Epoch 129/1000\n",
      "56/56 [==============================] - 0s 5ms/step - loss: 0.5237\n",
      "Epoch 130/1000\n",
      "56/56 [==============================] - 0s 5ms/step - loss: 0.5282\n",
      "Epoch 131/1000\n",
      "56/56 [==============================] - 0s 5ms/step - loss: 0.5095\n",
      "Epoch 132/1000\n",
      "56/56 [==============================] - 0s 5ms/step - loss: 0.5087\n",
      "Epoch 133/1000\n",
      "56/56 [==============================] - 0s 5ms/step - loss: 0.5075\n",
      "Epoch 134/1000\n",
      "56/56 [==============================] - 0s 5ms/step - loss: 0.4987\n",
      "Epoch 135/1000\n",
      "56/56 [==============================] - 0s 5ms/step - loss: 0.5115\n",
      "Epoch 136/1000\n",
      "56/56 [==============================] - 0s 5ms/step - loss: 0.4967\n",
      "Epoch 137/1000\n",
      "56/56 [==============================] - 0s 5ms/step - loss: 0.5107\n",
      "Epoch 138/1000\n",
      "56/56 [==============================] - 0s 5ms/step - loss: 0.5074\n",
      "Epoch 139/1000\n",
      "56/56 [==============================] - 0s 5ms/step - loss: 0.5064\n",
      "Epoch 140/1000\n",
      "56/56 [==============================] - 0s 5ms/step - loss: 0.4943\n",
      "Epoch 141/1000\n",
      "56/56 [==============================] - 0s 5ms/step - loss: 0.4798\n",
      "Epoch 142/1000\n",
      "56/56 [==============================] - 0s 5ms/step - loss: 0.5033\n",
      "Epoch 143/1000\n",
      "56/56 [==============================] - 0s 5ms/step - loss: 0.4997\n",
      "Epoch 144/1000\n",
      "56/56 [==============================] - 0s 5ms/step - loss: 0.5153\n",
      "Epoch 145/1000\n",
      "56/56 [==============================] - 0s 5ms/step - loss: 0.4727\n",
      "Epoch 146/1000\n",
      "56/56 [==============================] - 0s 5ms/step - loss: 0.4958\n",
      "Epoch 147/1000\n",
      "56/56 [==============================] - 0s 5ms/step - loss: 0.4718\n",
      "Epoch 148/1000\n",
      "56/56 [==============================] - 0s 5ms/step - loss: 0.4882\n",
      "Epoch 149/1000\n",
      "56/56 [==============================] - 0s 5ms/step - loss: 0.4819\n",
      "Epoch 150/1000\n",
      "56/56 [==============================] - 0s 5ms/step - loss: 0.5095\n",
      "Epoch 151/1000\n",
      "56/56 [==============================] - 0s 5ms/step - loss: 0.5141\n",
      "Epoch 152/1000\n",
      "56/56 [==============================] - 0s 5ms/step - loss: 0.4640\n",
      "Epoch 153/1000\n",
      "56/56 [==============================] - 0s 5ms/step - loss: 0.4771\n",
      "Epoch 154/1000\n",
      "56/56 [==============================] - 0s 5ms/step - loss: 0.4712\n",
      "Epoch 155/1000\n",
      "56/56 [==============================] - 0s 5ms/step - loss: 0.5406\n",
      "Epoch 156/1000\n",
      "56/56 [==============================] - 0s 5ms/step - loss: 0.4689\n",
      "Epoch 157/1000\n",
      "56/56 [==============================] - 0s 5ms/step - loss: 0.4691\n",
      "Epoch 158/1000\n",
      "56/56 [==============================] - 0s 5ms/step - loss: 0.4458\n",
      "Epoch 159/1000\n",
      "56/56 [==============================] - 0s 5ms/step - loss: 0.4552\n",
      "Epoch 160/1000\n",
      "56/56 [==============================] - 0s 5ms/step - loss: 0.4499\n",
      "Epoch 161/1000\n",
      "56/56 [==============================] - 0s 5ms/step - loss: 0.4742\n",
      "Epoch 162/1000\n",
      "56/56 [==============================] - 0s 5ms/step - loss: 0.4464\n",
      "Epoch 163/1000\n",
      "56/56 [==============================] - 0s 5ms/step - loss: 0.4440\n",
      "Epoch 164/1000\n",
      "56/56 [==============================] - 0s 5ms/step - loss: 0.4520\n",
      "Epoch 165/1000\n",
      "56/56 [==============================] - 0s 5ms/step - loss: 0.4527\n",
      "Epoch 166/1000\n",
      "56/56 [==============================] - 0s 5ms/step - loss: 0.4474\n",
      "Epoch 167/1000\n",
      "56/56 [==============================] - 0s 5ms/step - loss: 0.4492\n",
      "Epoch 168/1000\n",
      "56/56 [==============================] - 0s 5ms/step - loss: 0.4449\n",
      "Epoch 169/1000\n",
      "56/56 [==============================] - 0s 5ms/step - loss: 0.4292\n",
      "Epoch 170/1000\n",
      "56/56 [==============================] - 0s 5ms/step - loss: 0.4421\n",
      "Epoch 171/1000\n",
      "56/56 [==============================] - 0s 5ms/step - loss: 0.4310\n",
      "Epoch 172/1000\n",
      "56/56 [==============================] - 0s 5ms/step - loss: 0.4504\n",
      "Epoch 173/1000\n",
      "56/56 [==============================] - 0s 5ms/step - loss: 0.4447\n",
      "Epoch 174/1000\n",
      "56/56 [==============================] - 0s 5ms/step - loss: 0.4213\n",
      "Epoch 175/1000\n",
      "56/56 [==============================] - 0s 5ms/step - loss: 0.4060\n",
      "Epoch 176/1000\n",
      "56/56 [==============================] - 0s 5ms/step - loss: 0.4266\n",
      "Epoch 177/1000\n",
      "56/56 [==============================] - 0s 5ms/step - loss: 0.4058\n",
      "Epoch 178/1000\n",
      "56/56 [==============================] - 0s 5ms/step - loss: 0.4037\n",
      "Epoch 179/1000\n",
      "56/56 [==============================] - 0s 5ms/step - loss: 0.4253\n",
      "Epoch 180/1000\n",
      "56/56 [==============================] - 0s 5ms/step - loss: 0.4307\n",
      "Epoch 181/1000\n",
      "56/56 [==============================] - 0s 5ms/step - loss: 0.3923\n",
      "Epoch 182/1000\n",
      "56/56 [==============================] - 0s 5ms/step - loss: 0.3908\n",
      "Epoch 183/1000\n",
      "56/56 [==============================] - 0s 5ms/step - loss: 0.4097\n",
      "Epoch 184/1000\n",
      "56/56 [==============================] - 0s 5ms/step - loss: 0.3954\n",
      "Epoch 185/1000\n",
      "56/56 [==============================] - 0s 5ms/step - loss: 0.3841\n",
      "Epoch 186/1000\n",
      "56/56 [==============================] - 0s 5ms/step - loss: 0.3819\n",
      "Epoch 187/1000\n",
      "56/56 [==============================] - 0s 5ms/step - loss: 0.3814\n",
      "Epoch 188/1000\n",
      "56/56 [==============================] - 0s 5ms/step - loss: 0.3624\n",
      "Epoch 189/1000\n",
      "56/56 [==============================] - 0s 5ms/step - loss: 0.3854\n",
      "Epoch 190/1000\n",
      "56/56 [==============================] - 0s 5ms/step - loss: 0.3760\n",
      "Epoch 191/1000\n",
      "56/56 [==============================] - 0s 5ms/step - loss: 0.3558\n",
      "Epoch 192/1000\n",
      "56/56 [==============================] - 0s 5ms/step - loss: 0.3677\n",
      "Epoch 193/1000\n",
      "56/56 [==============================] - 0s 5ms/step - loss: 0.3688\n",
      "Epoch 194/1000\n",
      "56/56 [==============================] - 0s 5ms/step - loss: 0.3616\n",
      "Epoch 195/1000\n",
      "56/56 [==============================] - 0s 5ms/step - loss: 0.3459\n",
      "Epoch 196/1000\n",
      "56/56 [==============================] - 0s 5ms/step - loss: 0.3614\n",
      "Epoch 197/1000\n",
      "56/56 [==============================] - 0s 5ms/step - loss: 0.3718\n",
      "Epoch 198/1000\n",
      "56/56 [==============================] - 0s 5ms/step - loss: 0.3649\n",
      "Epoch 199/1000\n",
      "56/56 [==============================] - 0s 5ms/step - loss: 0.3485\n",
      "Epoch 200/1000\n",
      "56/56 [==============================] - 0s 4ms/step - loss: 0.3665\n",
      "Epoch 201/1000\n",
      "56/56 [==============================] - 0s 4ms/step - loss: 0.3646\n",
      "Epoch 202/1000\n",
      "56/56 [==============================] - 0s 4ms/step - loss: 0.3248\n",
      "Epoch 203/1000\n",
      "56/56 [==============================] - 0s 4ms/step - loss: 0.3727\n",
      "Epoch 204/1000\n",
      "56/56 [==============================] - 0s 5ms/step - loss: 0.3324\n",
      "Epoch 205/1000\n",
      "56/56 [==============================] - 0s 5ms/step - loss: 0.3537\n",
      "Epoch 206/1000\n",
      "56/56 [==============================] - 0s 4ms/step - loss: 0.3358\n",
      "Epoch 207/1000\n",
      "56/56 [==============================] - 0s 5ms/step - loss: 0.3188\n",
      "Epoch 208/1000\n",
      "56/56 [==============================] - 0s 4ms/step - loss: 0.3471\n",
      "Epoch 209/1000\n",
      "56/56 [==============================] - 0s 5ms/step - loss: 0.3326\n",
      "Epoch 210/1000\n",
      "56/56 [==============================] - 0s 5ms/step - loss: 0.3186\n",
      "Epoch 211/1000\n",
      "56/56 [==============================] - 0s 4ms/step - loss: 0.3247\n",
      "Epoch 212/1000\n",
      "56/56 [==============================] - 0s 5ms/step - loss: 0.3109\n",
      "Epoch 213/1000\n",
      "56/56 [==============================] - 0s 5ms/step - loss: 0.3534\n",
      "Epoch 214/1000\n",
      "56/56 [==============================] - 0s 4ms/step - loss: 0.3069\n",
      "Epoch 215/1000\n",
      "56/56 [==============================] - 0s 4ms/step - loss: 0.3165\n",
      "Epoch 216/1000\n",
      "56/56 [==============================] - 0s 4ms/step - loss: 0.3453\n",
      "Epoch 217/1000\n",
      "56/56 [==============================] - 0s 4ms/step - loss: 0.3166\n",
      "Epoch 218/1000\n",
      "56/56 [==============================] - 0s 4ms/step - loss: 0.3398\n",
      "Epoch 219/1000\n",
      "56/56 [==============================] - 0s 5ms/step - loss: 0.3103\n",
      "Epoch 220/1000\n",
      "56/56 [==============================] - 0s 5ms/step - loss: 0.3456\n",
      "Epoch 221/1000\n",
      "56/56 [==============================] - 0s 4ms/step - loss: 0.3257\n",
      "Epoch 222/1000\n",
      "56/56 [==============================] - 0s 4ms/step - loss: 0.3757\n",
      "Epoch 223/1000\n",
      "56/56 [==============================] - 0s 5ms/step - loss: 0.3279\n",
      "Epoch 224/1000\n",
      "56/56 [==============================] - 0s 5ms/step - loss: 0.3376\n"
     ]
    }
   ],
   "source": [
    "model.compile(optimizer='adam',loss='mse')\n",
    "callbacks = [keras.callbacks.EarlyStopping(monitor='loss',patience=10, restore_best_weights=True)]\n",
    "history = model.fit(E, target.reshape((-1,1)), epochs=1000,callbacks=[callbacks])"
   ]
  },
  {
   "cell_type": "code",
   "execution_count": 252,
   "id": "57a1eb83",
   "metadata": {},
   "outputs": [
    {
     "name": "stdout",
     "output_type": "stream",
     "text": [
      "56/56 [==============================] - 0s 2ms/step\n"
     ]
    },
    {
     "data": {
      "text/plain": [
       "[<matplotlib.lines.Line2D at 0x395f63ee0>]"
      ]
     },
     "execution_count": 252,
     "metadata": {},
     "output_type": "execute_result"
    },
    {
     "data": {
      "image/png": "[encoded data removed]",
      "text/plain": [
       "<Figure size 1500x500 with 1 Axes>"
      ]
     },
     "metadata": {},
     "output_type": "display_data"
    }
   ],
   "source": [
    "P=model.predict(E)\n",
    "plt.plot(np.cumsum(P),color='b')\n",
    "plt.plot(np.cumsum(target),color='r')"
   ]
  },
  {
   "cell_type": "code",
   "execution_count": 251,
   "id": "7d1055b0",
   "metadata": {},
   "outputs": [
    {
     "data": {
      "text/plain": [
       "[<matplotlib.lines.Line2D at 0x44022f550>]"
      ]
     },
     "execution_count": 251,
     "metadata": {},
     "output_type": "execute_result"
    },
    {
     "data": {
      "image/png": "[encoded data removed]",
      "text/plain": [
       "<Figure size 1500x500 with 1 Axes>"
      ]
     },
     "metadata": {},
     "output_type": "display_data"
    }
   ],
   "source": [
    "plt.plot(P,color='b')\n",
    "plt.plot(target.reshape((-1,1)),color='r')"
   ]
  },
  {
   "cell_type": "code",
   "execution_count": null,
   "id": "270ad9ce",
   "metadata": {},
   "outputs": [],
   "source": []
  }
 ],
 "metadata": {
  "kernelspec": {
   "display_name": "Python 3.9 (tensorflow)",
   "language": "python",
   "name": "tensorflow"
  },
  "language_info": {
   "codemirror_mode": {
    "name": "ipython",
    "version": 3
   },
   "file_extension": ".py",
   "mimetype": "text/x-python",
   "name": "python",
   "nbconvert_exporter": "python",
   "pygments_lexer": "ipython3",
   "version": "3.9.13"
  }
 },
 "nbformat": 4,
 "nbformat_minor": 5
}
